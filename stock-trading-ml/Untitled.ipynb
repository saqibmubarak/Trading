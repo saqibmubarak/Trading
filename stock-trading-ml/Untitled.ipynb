{
 "cells": [
  {
   "cell_type": "code",
   "execution_count": 1,
   "metadata": {
    "execution": {
     "iopub.execute_input": "2021-07-13T22:29:34.673469Z",
     "iopub.status.busy": "2021-07-13T22:29:34.673469Z",
     "iopub.status.idle": "2021-07-13T22:29:40.128158Z",
     "shell.execute_reply": "2021-07-13T22:29:40.127657Z",
     "shell.execute_reply.started": "2021-07-13T22:29:34.673469Z"
    }
   },
   "outputs": [
    {
     "name": "stderr",
     "output_type": "stream",
     "text": [
      "Using TensorFlow backend.\n"
     ]
    }
   ],
   "source": [
    "import keras\n",
    "import tensorflow as tf\n",
    "from keras.models import Model\n",
    "from keras.layers import Dense, Dropout, LSTM, Input, Activation, concatenate\n",
    "from keras import optimizers\n",
    "import numpy as np\n",
    "np.random.seed(4)\n",
    "# from tensorflow import set_random_seed\n",
    "# set_random_seed(4)\n",
    "tf.random.set_seed(4)\n",
    "from util import csv_to_dataset, history_points"
   ]
  },
  {
   "cell_type": "code",
   "execution_count": 2,
   "metadata": {
    "execution": {
     "iopub.execute_input": "2021-07-13T22:31:10.279150Z",
     "iopub.status.busy": "2021-07-13T22:31:10.279150Z",
     "iopub.status.idle": "2021-07-13T22:31:35.680985Z",
     "shell.execute_reply": "2021-07-13T22:31:35.679983Z",
     "shell.execute_reply.started": "2021-07-13T22:31:10.279150Z"
    }
   },
   "outputs": [
    {
     "name": "stdout",
     "output_type": "stream",
     "text": [
      "(365480, 50, 5)\n",
      "(40609, 50, 5)\n"
     ]
    }
   ],
   "source": [
    "# dataset\n",
    "ohlcv_histories, technical_indicators, next_day_open_values, unscaled_y, y_normaliser = csv_to_dataset(r'C:\\Users\\saqib\\Desktop\\Workspace\\Trading\\binance_scraper\\BTCUSDT-5m-data.csv')\n",
    "\n",
    "test_split = 0.9\n",
    "n = int(ohlcv_histories.shape[0] * test_split)\n",
    "\n",
    "ohlcv_train = ohlcv_histories[:n]\n",
    "tech_ind_train = technical_indicators[:n]\n",
    "y_train = next_day_open_values[:n]\n",
    "\n",
    "ohlcv_test = ohlcv_histories[n:]\n",
    "tech_ind_test = technical_indicators[n:]\n",
    "y_test = next_day_open_values[n:]\n",
    "\n",
    "unscaled_y_test = unscaled_y[n:]\n",
    "\n",
    "print(ohlcv_train.shape)\n",
    "print(ohlcv_test.shape)"
   ]
  },
  {
   "cell_type": "code",
   "execution_count": 4,
   "metadata": {
    "execution": {
     "iopub.execute_input": "2021-07-13T22:32:58.535204Z",
     "iopub.status.busy": "2021-07-13T22:32:58.534704Z",
     "iopub.status.idle": "2021-07-13T22:32:58.548216Z",
     "shell.execute_reply": "2021-07-13T22:32:58.547715Z",
     "shell.execute_reply.started": "2021-07-13T22:32:58.535204Z"
    },
    "tags": []
   },
   "outputs": [
    {
     "data": {
      "text/plain": [
       "array([[ 4360.71],\n",
       "       [ 4360.71],\n",
       "       [ 4360.7 ],\n",
       "       ...,\n",
       "       [33590.01],\n",
       "       [33661.28],\n",
       "       [33703.04]])"
      ]
     },
     "execution_count": 4,
     "metadata": {},
     "output_type": "execute_result"
    }
   ],
   "source": [
    "unscaled_y"
   ]
  },
  {
   "cell_type": "code",
   "execution_count": 5,
   "metadata": {
    "execution": {
     "iopub.execute_input": "2021-07-13T22:33:10.545528Z",
     "iopub.status.busy": "2021-07-13T22:33:10.545028Z",
     "iopub.status.idle": "2021-07-13T22:33:10.555037Z",
     "shell.execute_reply": "2021-07-13T22:33:10.554536Z",
     "shell.execute_reply.started": "2021-07-13T22:33:10.545528Z"
    }
   },
   "outputs": [
    {
     "data": {
      "text/plain": [
       "array([[[2.31326264e-02, 2.23228346e-02, 2.34040926e-02, 2.32940037e-02,\n",
       "         0.00000000e+00],\n",
       "        [2.31326264e-02, 2.23228346e-02, 2.34040926e-02, 2.32940037e-02,\n",
       "         0.00000000e+00],\n",
       "        [2.31326264e-02, 2.23776946e-02, 2.34040926e-02, 2.32940037e-02,\n",
       "         5.85545380e-05],\n",
       "        ...,\n",
       "        [2.42935562e-02, 2.42004970e-02, 2.45680755e-02, 2.44549224e-02,\n",
       "         7.96256229e-05],\n",
       "        [2.50131582e-02, 2.42004970e-02, 2.50118602e-02, 2.48975389e-02,\n",
       "         1.29684385e-05],\n",
       "        [2.47361769e-02, 2.39239383e-02, 2.50118602e-02, 2.48975389e-02,\n",
       "         0.00000000e+00]],\n",
       "\n",
       "       [[2.31326264e-02, 2.23228346e-02, 2.34040926e-02, 2.32940037e-02,\n",
       "         0.00000000e+00],\n",
       "        [2.31326264e-02, 2.23776946e-02, 2.34040926e-02, 2.32940037e-02,\n",
       "         5.85545380e-05],\n",
       "        [2.31875702e-02, 2.24004453e-02, 2.34591809e-02, 2.33717322e-02,\n",
       "         2.81324336e-04],\n",
       "        ...,\n",
       "        [2.50131582e-02, 2.42004970e-02, 2.50118602e-02, 2.48975389e-02,\n",
       "         1.29684385e-05],\n",
       "        [2.47361769e-02, 2.39239383e-02, 2.50118602e-02, 2.48975389e-02,\n",
       "         0.00000000e+00],\n",
       "        [2.47361769e-02, 2.39239383e-02, 2.50118602e-02, 2.48975389e-02,\n",
       "         0.00000000e+00]],\n",
       "\n",
       "       [[2.31326264e-02, 2.23776946e-02, 2.34040926e-02, 2.32940037e-02,\n",
       "         5.85545380e-05],\n",
       "        [2.31875702e-02, 2.24004453e-02, 2.34591809e-02, 2.33717322e-02,\n",
       "         2.81324336e-04],\n",
       "        [2.32103557e-02, 2.24669227e-02, 2.34015002e-02, 2.32935189e-02,\n",
       "         7.61930376e-04],\n",
       "        ...,\n",
       "        [2.47361769e-02, 2.39239383e-02, 2.50118602e-02, 2.48975389e-02,\n",
       "         0.00000000e+00],\n",
       "        [2.47361769e-02, 2.39239383e-02, 2.50118602e-02, 2.48975389e-02,\n",
       "         0.00000000e+00],\n",
       "        [2.47361769e-02, 2.39239383e-02, 2.50118602e-02, 2.48975389e-02,\n",
       "         1.38706790e-06]],\n",
       "\n",
       "       ...,\n",
       "\n",
       "       [[6.88434963e-01, 6.89479153e-01, 6.90382332e-01, 6.89715365e-01,\n",
       "         6.96348039e-02],\n",
       "        [6.89560341e-01, 6.90944882e-01, 6.90551323e-01, 6.91840538e-01,\n",
       "         5.49226404e-02],\n",
       "        [6.91685373e-01, 6.91756809e-01, 6.91287724e-01, 6.90964839e-01,\n",
       "         5.89749507e-02],\n",
       "        ...,\n",
       "        [7.25436371e-01, 7.24828966e-01, 7.25707204e-01, 7.26867029e-01,\n",
       "         8.50290734e-02],\n",
       "        [7.26712359e-01, 7.25232348e-01, 7.22097788e-01, 7.22915315e-01,\n",
       "         1.01524808e-01],\n",
       "        [7.22760608e-01, 7.24112076e-01, 7.20387134e-01, 7.21830509e-01,\n",
       "         8.57422093e-02]],\n",
       "\n",
       "       [[6.89560341e-01, 6.90944882e-01, 6.90551323e-01, 6.91840538e-01,\n",
       "         5.49226404e-02],\n",
       "        [6.91685373e-01, 6.91756809e-01, 6.91287724e-01, 6.90964839e-01,\n",
       "         5.89749507e-02],\n",
       "        [6.90809828e-01, 6.89151446e-01, 6.90256925e-01, 6.88768886e-01,\n",
       "         2.71397135e-02],\n",
       "        ...,\n",
       "        [7.26712359e-01, 7.25232348e-01, 7.22097788e-01, 7.22915315e-01,\n",
       "         1.01524808e-01],\n",
       "        [7.22760608e-01, 7.24112076e-01, 7.20387134e-01, 7.21830509e-01,\n",
       "         8.57422093e-02],\n",
       "        [7.21519525e-01, 7.21689848e-01, 7.20036352e-01, 7.19153964e-01,\n",
       "         7.61321574e-02]],\n",
       "\n",
       "       [[6.91685373e-01, 6.91756809e-01, 6.91287724e-01, 6.90964839e-01,\n",
       "         5.89749507e-02],\n",
       "        [6.90809828e-01, 6.89151446e-01, 6.90256925e-01, 6.88768886e-01,\n",
       "         2.71397135e-02],\n",
       "        [6.88625328e-01, 6.88812282e-01, 6.89978081e-01, 6.88777289e-01,\n",
       "         3.86083013e-02],\n",
       "        ...,\n",
       "        [7.22760608e-01, 7.24112076e-01, 7.20387134e-01, 7.21830509e-01,\n",
       "         8.57422093e-02],\n",
       "        [7.21519525e-01, 7.21689848e-01, 7.20036352e-01, 7.19153964e-01,\n",
       "         7.61321574e-02],\n",
       "        [7.18999222e-01, 7.19043985e-01, 7.19647331e-01, 7.20301632e-01,\n",
       "         4.13388135e-02]]])"
      ]
     },
     "execution_count": 5,
     "metadata": {},
     "output_type": "execute_result"
    }
   ],
   "source": [
    "ohlcv_train"
   ]
  },
  {
   "cell_type": "code",
   "execution_count": null,
   "metadata": {},
   "outputs": [],
   "source": []
  }
 ],
 "metadata": {
  "kernelspec": {
   "display_name": "Python 3",
   "language": "python",
   "name": "python3"
  },
  "language_info": {
   "codemirror_mode": {
    "name": "ipython",
    "version": 3
   },
   "file_extension": ".py",
   "mimetype": "text/x-python",
   "name": "python",
   "nbconvert_exporter": "python",
   "pygments_lexer": "ipython3",
   "version": "3.7.9"
  }
 },
 "nbformat": 4,
 "nbformat_minor": 4
}
