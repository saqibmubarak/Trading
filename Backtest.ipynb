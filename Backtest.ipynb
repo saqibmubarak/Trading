{
 "cells": [
  {
   "cell_type": "code",
   "execution_count": 1,
   "metadata": {
    "execution": {
     "iopub.execute_input": "2021-07-13T16:45:47.461214Z",
     "iopub.status.busy": "2021-07-13T16:45:47.461214Z",
     "iopub.status.idle": "2021-07-13T16:45:47.822525Z",
     "shell.execute_reply": "2021-07-13T16:45:47.822024Z",
     "shell.execute_reply.started": "2021-07-13T16:45:47.461214Z"
    },
    "tags": []
   },
   "outputs": [],
   "source": [
    "%matplotlib widget"
   ]
  },
  {
   "cell_type": "code",
   "execution_count": 2,
   "metadata": {
    "execution": {
     "iopub.execute_input": "2021-07-13T16:45:47.823526Z",
     "iopub.status.busy": "2021-07-13T16:45:47.823526Z",
     "iopub.status.idle": "2021-07-13T16:45:48.241385Z",
     "shell.execute_reply": "2021-07-13T16:45:48.240384Z",
     "shell.execute_reply.started": "2021-07-13T16:45:47.823526Z"
    },
    "tags": []
   },
   "outputs": [],
   "source": [
    "import backtrader as bt\n",
    "import pandas as pd\n",
    "import pickle\n",
    "from pprint import pprint"
   ]
  },
  {
   "cell_type": "code",
   "execution_count": 3,
   "metadata": {
    "execution": {
     "iopub.execute_input": "2021-07-13T16:45:48.242386Z",
     "iopub.status.busy": "2021-07-13T16:45:48.241885Z",
     "iopub.status.idle": "2021-07-13T16:45:48.256898Z",
     "shell.execute_reply": "2021-07-13T16:45:48.255897Z",
     "shell.execute_reply.started": "2021-07-13T16:45:48.242386Z"
    },
    "tags": []
   },
   "outputs": [],
   "source": [
    "class IchimokuPrizecross(bt.Strategy): \n",
    "    # Moving average parameters\n",
    "    params = (('pfast',50),('pslow',200),\n",
    "              ('kijun_base',26),\n",
    "              (\"fast_period\", 12),(\"slow_period\", 26),(\"signal_period\", 9),)\n",
    "\n",
    "    def log(self, txt, dt=None):\n",
    "        dt = dt or self.datas[0].datetime.date(0)\n",
    "        print(f'{dt.isoformat()} {txt}') # Comment this line when running optimization\n",
    "\n",
    "    def __init__(self):\n",
    "        self.dataclose = self.datas[0].close\n",
    "        self.dataopen = self.datas[0].open\n",
    "        \n",
    "        # Order variable will contain ongoing order details/status\n",
    "        self.order = None\n",
    "\n",
    "        # Instantiate moving averages\n",
    "        self.slow_sma = bt.indicators.MovingAverageSimple(self.datas[0], \n",
    "                        period=self.params.pslow)\n",
    "        self.fast_sma = bt.indicators.MovingAverageSimple(self.datas[0], \n",
    "                        period=self.params.pfast)\n",
    "        self.ichimoku = bt.indicators.Ichimoku(self.datas[0], \n",
    "                        kijun=self.params.kijun_base)\n",
    "        macd_ind = bt.ind.MACD(\n",
    "            period_me1=self.params.fast_period,\n",
    "            period_me2=self.params.slow_period,\n",
    "            period_signal=self.params.signal_period,\n",
    "        )\n",
    "        self.macd = macd_ind.macd\n",
    "        self.signal = macd_ind.signal\n",
    "        self.crossover = bt.ind.CrossOver(\n",
    "            self.macd, self.signal\n",
    "        )  # crossover buy signal\n",
    "\n",
    "    \n",
    "    def notify_order(self, order):\n",
    "        if order.status in [order.Submitted, order.Accepted]:\n",
    "            # An active Buy/Sell order has been submitted/accepted - Nothing to do\n",
    "            return\n",
    "\n",
    "        # Check if an order has been completed\n",
    "        # Attention: broker could reject order if not enough cash\n",
    "        if order.status in [order.Completed]:\n",
    "            if order.isbuy():\n",
    "#                 self.log(f'BUY EXECUTED, {order.executed.price:.2f}')\n",
    "                self.log(', '.join((\n",
    "                    'BUY EXECUTED',\n",
    "                    f'Price: {order.executed.price:.2f}',\n",
    "                    f'Cost: {order.executed.value:.2f}',\n",
    "                    f'Comm: {order.executed.comm:.2f}')))\n",
    "            elif order.issell():\n",
    "                self.log(f'SELL EXECUTED, {order.executed.price:.2f}')\n",
    "            self.bar_executed = len(self)\n",
    "\n",
    "        elif order.status in [order.Canceled, order.Margin, order.Rejected]:\n",
    "            self.log('Order Canceled/Margin/Rejected')\n",
    "        \n",
    "        elif order.isclosed:\n",
    "            self.log(f'PNL: GROSS {order.pnl:.2f}, NET {order.pnlcomm:.2f}')\n",
    "\n",
    "        # Reset orders\n",
    "        self.order = None\n",
    "    \n",
    "    def next(self):\n",
    "#         print(self.ichimoku.kijun_sen[0])\n",
    "#         help(self.ichimoku)\n",
    "#         print(len(self.position))\n",
    "        # Check for open orders\n",
    "        if self.order:\n",
    "#             print(\"hello\")\n",
    "            return\n",
    "\n",
    "        # Check if we are in the market\n",
    "        if not self.position:\n",
    "            # We are not in the market, look for a signal to OPEN trades\n",
    "            ichimoku = self.dataclose[0] > self.ichimoku.kijun_sen[0] and self.dataopen[0] < self.ichimoku.kijun_sen[0]\n",
    "            sma = self.dataclose[0] > self.slow_sma[0] and self.dataopen[0] > self.slow_sma[0]\n",
    "            if ichimoku and sma:\n",
    "            #If the 20 SMA is above the 50 SMA\n",
    "#             if self.fast_sma[0] > self.slow_sma[0] and self.fast_sma[-1] < self.slow_sma[-1]:\n",
    "                self.log(f'BUY CREATE {self.dataclose[0]:2f}')\n",
    "    \n",
    "#                 print(self.dataclose[0], self.datas[0].close[0],\n",
    "#                       self.dataclose[0] == self.datas[0].close[0],\n",
    "#                       self.datas[0].open[0], len(self.datas[0]), len(self.datas[0].open))\n",
    "                \n",
    "                # Keep track of the created order to avoid a 2nd order\n",
    "#                 self.order = self.buy(plimit=(self.data.close[0]-(self.data.close[0]*0.05)), exectype=bt.Order.StopLimit)\n",
    "                self.order = self.buy()\n",
    "#                 self.order = self.buy()\n",
    "            #Otherwise if the 20 SMA is below the 50 SMA   \n",
    "#             elif self.fast_sma[0] < self.slow_sma[0] and self.fast_sma[-1] > self.slow_sma[-1]:\n",
    "#                 self.log(f'SELL CREATE {self.dataclose[0]:2f}')\n",
    "#                 # Keep track of the created order to avoid a 2nd order\n",
    "#                 self.order = self.sell()\n",
    "        else:\n",
    "            # We are already in the market, look for a signal to CLOSE trades\n",
    "#             print(self.bar_executed, len(self), self.order)\n",
    "            \n",
    "            if self.crossover < 0 or len(self) >= (self.bar_executed + 90):\n",
    "                self.log(f'CLOSE CREATE {self.dataclose[0]:2f}')\n",
    "                self.order = self.close()"
   ]
  },
  {
   "cell_type": "code",
   "execution_count": 4,
   "metadata": {
    "execution": {
     "iopub.execute_input": "2021-07-13T16:45:48.258399Z",
     "iopub.status.busy": "2021-07-13T16:45:48.257899Z",
     "iopub.status.idle": "2021-07-13T16:45:48.272412Z",
     "shell.execute_reply": "2021-07-13T16:45:48.271411Z",
     "shell.execute_reply.started": "2021-07-13T16:45:48.257899Z"
    },
    "tags": []
   },
   "outputs": [],
   "source": [
    "class MAcrossover(bt.Strategy): \n",
    "    # Moving average parameters\n",
    "    params = (('pfast',20),('pslow',50),)\n",
    "\n",
    "    def log(self, txt, dt=None):\n",
    "        dt = dt or self.datas[0].datetime.date(0)\n",
    "        print(f'{dt.isoformat()} {txt}') # Comment this line when running optimization\n",
    "\n",
    "    def __init__(self):\n",
    "        self.dataclose = self.datas[0].close\n",
    "        \n",
    "\t\t# Order variable will contain ongoing order details/status\n",
    "        self.order = None\n",
    "\n",
    "        # Instantiate moving averages\n",
    "        self.slow_sma = bt.indicators.MovingAverageSimple(self.datas[0], \n",
    "                        period=self.params.pslow)\n",
    "        self.fast_sma = bt.indicators.MovingAverageSimple(self.datas[0], \n",
    "                        period=self.params.pfast)\n",
    "        \n",
    "    def notify_order(self, order):\n",
    "        if order.status in [order.Submitted, order.Accepted]:\n",
    "            # An active Buy/Sell order has been submitted/accepted - Nothing to do\n",
    "            return\n",
    "\n",
    "        # Check if an order has been completed\n",
    "        # Attention: broker could reject order if not enough cash\n",
    "        if order.status in [order.Completed]:\n",
    "            if order.isbuy():\n",
    "#                 self.log(f'BUY EXECUTED, {order.executed.price:.2f}')\n",
    "                self.log(', '.join((\n",
    "                    'BUY EXECUTED',\n",
    "                    f'Price: {order.executed.price:.2f}',\n",
    "                    f'Cost: {order.executed.value:.2f}',\n",
    "                    f'Comm: {order.executed.comm:.2f}')))\n",
    "\n",
    "            elif order.issell():\n",
    "                self.log(f'SELL EXECUTED, {order.executed.price:.2f}')\n",
    "            self.bar_executed = len(self)\n",
    "\n",
    "        elif order.status in [order.Canceled, order.Margin, order.Rejected]:\n",
    "            n = [order.Canceled, order.Margin, order.Rejected]\n",
    "            self.log('Order Canceled/Margin/Rejected status ={}, {}'.format(order.status, n))\n",
    "\n",
    "        # Reset orders\n",
    "        self.order = None\n",
    "        \n",
    "    def next(self):\n",
    "        # Check for open orders\n",
    "        if self.order:\n",
    "            return\n",
    "\n",
    "        # Check if we are in the market\n",
    "        if not self.position:\n",
    "            # We are not in the market, look for a signal to OPEN trades\n",
    "\n",
    "            #If the 20 SMA is above the 50 SMA\n",
    "            if self.fast_sma[0] > self.slow_sma[0] and self.fast_sma[-1] < self.slow_sma[-1]:\n",
    "                self.log(f'BUY CREATE {self.dataclose[0]:2f}')\n",
    "                # Keep track of the created order to avoid a 2nd order\n",
    "                self.order = self.buy()\n",
    "            #Otherwise if the 20 SMA is below the 50 SMA   \n",
    "            elif self.fast_sma[0] < self.slow_sma[0] and self.fast_sma[-1] > self.slow_sma[-1]:\n",
    "                self.log(f'SELL CREATE {self.dataclose[0]:2f}')\n",
    "                # Keep track of the created order to avoid a 2nd order\n",
    "                self.order = self.sell()\n",
    "        else:\n",
    "            # We are already in the market, look for a signal to CLOSE trades\n",
    "            if len(self) >= (self.bar_executed + 5):\n",
    "                self.log(f'CLOSE CREATE {self.dataclose[0]:2f}')\n",
    "                self.order = self.close()"
   ]
  },
  {
   "cell_type": "code",
   "execution_count": 5,
   "metadata": {
    "execution": {
     "iopub.execute_input": "2021-07-13T16:45:48.273412Z",
     "iopub.status.busy": "2021-07-13T16:45:48.273412Z",
     "iopub.status.idle": "2021-07-13T16:45:48.287925Z",
     "shell.execute_reply": "2021-07-13T16:45:48.286924Z",
     "shell.execute_reply.started": "2021-07-13T16:45:48.273412Z"
    },
    "tags": []
   },
   "outputs": [],
   "source": [
    "cerebro = bt.Cerebro()"
   ]
  },
  {
   "cell_type": "code",
   "execution_count": 6,
   "metadata": {
    "execution": {
     "iopub.execute_input": "2021-07-13T16:45:48.288925Z",
     "iopub.status.busy": "2021-07-13T16:45:48.288425Z",
     "iopub.status.idle": "2021-07-13T16:45:48.938984Z",
     "shell.execute_reply": "2021-07-13T16:45:48.938484Z",
     "shell.execute_reply.started": "2021-07-13T16:45:48.288925Z"
    },
    "tags": []
   },
   "outputs": [],
   "source": [
    "# df = pd.read_csv(r\"C:\\Users\\saqib\\Desktop\\Workspace\\Trading\\binance_scraper\\BTCUSDT-5m-data.csv\", index_col='timestamp',   parse_dates=True)\n",
    "data_file = r\"C:\\Users\\saqib\\Desktop\\Workspace\\Trading\\binance_scraper\\BTCUSDT-5m-data.csv\"\n",
    "df  =  pd.read_csv(data_file, header=0, parse_dates=True)\n",
    "df = df.tail(10000)\n",
    "df = df.drop(['close_time',\n",
    "       'quote_av', 'trades', 'tb_base_av', 'tb_quote_av', 'ignore' ], axis=1)\n",
    "df['timestamp'] = pd.to_datetime(df['timestamp'], format = r\"%Y/%m/%d %H:%M:%S\" )\n",
    "df.set_index('timestamp', inplace=True)  \n",
    "\n",
    "data = bt.feeds.PandasData(\n",
    "    dataname=df,\n",
    "    timeframe=bt.TimeFrame.Seconds,\n",
    "    # compression=5,\n",
    "    tz='Asia/Kolkata'\n",
    ")"
   ]
  },
  {
   "cell_type": "code",
   "execution_count": 7,
   "metadata": {
    "execution": {
     "iopub.execute_input": "2021-07-13T16:45:48.940486Z",
     "iopub.status.busy": "2021-07-13T16:45:48.940486Z",
     "iopub.status.idle": "2021-07-13T16:45:48.954498Z",
     "shell.execute_reply": "2021-07-13T16:45:48.953997Z",
     "shell.execute_reply.started": "2021-07-13T16:45:48.940486Z"
    },
    "tags": []
   },
   "outputs": [
    {
     "data": {
      "text/plain": [
       "<backtrader.feeds.pandafeed.PandasData at 0x258a569e5c8>"
      ]
     },
     "execution_count": 7,
     "metadata": {},
     "output_type": "execute_result"
    }
   ],
   "source": [
    "cerebro.adddata(data)"
   ]
  },
  {
   "cell_type": "code",
   "execution_count": 8,
   "metadata": {
    "execution": {
     "iopub.execute_input": "2021-07-13T16:45:48.955999Z",
     "iopub.status.busy": "2021-07-13T16:45:48.955999Z",
     "iopub.status.idle": "2021-07-13T16:45:48.970512Z",
     "shell.execute_reply": "2021-07-13T16:45:48.969511Z",
     "shell.execute_reply.started": "2021-07-13T16:45:48.955999Z"
    },
    "tags": []
   },
   "outputs": [],
   "source": [
    "cerebro.addanalyzer(bt.analyzers.SharpeRatio, _name='sharpe_ratio', timeframe=bt.TimeFrame.Minutes, compression=30)\n",
    "cerebro.addanalyzer(bt.analyzers.PyFolio, _name='py_folio')\n",
    "cerebro.addanalyzer(bt.analyzers.PositionsValue, _name='p_v')\n",
    "cerebro.addanalyzer(bt.analyzers.LogReturnsRolling, _name='lrr')\n",
    "cerebro.addanalyzer(bt.analyzers.TradeAnalyzer, _name='ta')"
   ]
  },
  {
   "cell_type": "code",
   "execution_count": 9,
   "metadata": {
    "execution": {
     "iopub.execute_input": "2021-07-13T16:45:48.971512Z",
     "iopub.status.busy": "2021-07-13T16:45:48.971512Z",
     "iopub.status.idle": "2021-07-13T16:45:48.986025Z",
     "shell.execute_reply": "2021-07-13T16:45:48.985024Z",
     "shell.execute_reply.started": "2021-07-13T16:45:48.971512Z"
    },
    "tags": []
   },
   "outputs": [],
   "source": [
    "cerebro.addsizer(bt.sizers.PercentSizer, percents=20)"
   ]
  },
  {
   "cell_type": "code",
   "execution_count": 10,
   "metadata": {
    "execution": {
     "iopub.execute_input": "2021-07-13T16:45:48.987026Z",
     "iopub.status.busy": "2021-07-13T16:45:48.987026Z",
     "iopub.status.idle": "2021-07-13T16:45:49.001037Z",
     "shell.execute_reply": "2021-07-13T16:45:49.000537Z",
     "shell.execute_reply.started": "2021-07-13T16:45:48.987026Z"
    },
    "tags": []
   },
   "outputs": [],
   "source": [
    "# cerebro.addstrategy(IchimokuPrizecross)"
   ]
  },
  {
   "cell_type": "code",
   "execution_count": 11,
   "metadata": {
    "execution": {
     "iopub.execute_input": "2021-07-13T16:45:49.002038Z",
     "iopub.status.busy": "2021-07-13T16:45:49.002038Z",
     "iopub.status.idle": "2021-07-13T16:45:49.047578Z",
     "shell.execute_reply": "2021-07-13T16:45:49.047077Z",
     "shell.execute_reply.started": "2021-07-13T16:45:49.002038Z"
    },
    "tags": []
   },
   "outputs": [],
   "source": [
    "cerebro.optstrategy(IchimokuPrizecross, pfast=range(5, 20), pslow=range(50, 100), kijun_base=range(5,100) )"
   ]
  },
  {
   "cell_type": "code",
   "execution_count": 12,
   "metadata": {
    "execution": {
     "iopub.execute_input": "2021-07-13T16:45:49.049079Z",
     "iopub.status.busy": "2021-07-13T16:45:49.048578Z",
     "iopub.status.idle": "2021-07-13T16:45:49.063592Z",
     "shell.execute_reply": "2021-07-13T16:45:49.062591Z",
     "shell.execute_reply.started": "2021-07-13T16:45:49.049079Z"
    },
    "tags": []
   },
   "outputs": [],
   "source": [
    "# cerebro.addstrategy(MAcrossover)"
   ]
  },
  {
   "cell_type": "code",
   "execution_count": 13,
   "metadata": {
    "execution": {
     "iopub.execute_input": "2021-07-13T16:45:49.065093Z",
     "iopub.status.busy": "2021-07-13T16:45:49.064592Z",
     "iopub.status.idle": "2021-07-13T16:45:49.079105Z",
     "shell.execute_reply": "2021-07-13T16:45:49.078104Z",
     "shell.execute_reply.started": "2021-07-13T16:45:49.065093Z"
    },
    "tags": []
   },
   "outputs": [],
   "source": [
    "cerebro.broker.setcash(100000.0)"
   ]
  },
  {
   "cell_type": "code",
   "execution_count": 14,
   "metadata": {
    "execution": {
     "iopub.execute_input": "2021-07-13T16:45:49.080606Z",
     "iopub.status.busy": "2021-07-13T16:45:49.080105Z",
     "iopub.status.idle": "2021-07-13T16:45:49.094618Z",
     "shell.execute_reply": "2021-07-13T16:45:49.093618Z",
     "shell.execute_reply.started": "2021-07-13T16:45:49.080606Z"
    },
    "tags": []
   },
   "outputs": [],
   "source": [
    "cerebro.broker.setcommission(commission = 0.001, leverage = 20)"
   ]
  },
  {
   "cell_type": "code",
   "execution_count": 15,
   "metadata": {
    "execution": {
     "iopub.execute_input": "2021-07-13T16:45:49.096120Z",
     "iopub.status.busy": "2021-07-13T16:45:49.096120Z",
     "iopub.status.idle": "2021-07-13T16:45:49.110132Z",
     "shell.execute_reply": "2021-07-13T16:45:49.109131Z",
     "shell.execute_reply.started": "2021-07-13T16:45:49.096120Z"
    },
    "tags": []
   },
   "outputs": [
    {
     "name": "stdout",
     "output_type": "stream",
     "text": [
      "Starting Portfolio Value: 100000.00\n"
     ]
    }
   ],
   "source": [
    " print('Starting Portfolio Value: %.2f' % cerebro.broker.getvalue())"
   ]
  },
  {
   "cell_type": "code",
   "execution_count": null,
   "metadata": {
    "execution": {
     "iopub.execute_input": "2021-07-13T16:45:49.111133Z",
     "iopub.status.busy": "2021-07-13T16:45:49.111133Z"
    },
    "scrolled": true,
    "tags": []
   },
   "outputs": [],
   "source": [
    "res = cerebro.run()"
   ]
  },
  {
   "cell_type": "code",
   "execution_count": null,
   "metadata": {
    "tags": []
   },
   "outputs": [],
   "source": [
    "filename = 'res.sav'\n",
    "pickle.dump(res, open(filename, 'wb'))"
   ]
  },
  {
   "cell_type": "code",
   "execution_count": null,
   "metadata": {
    "tags": []
   },
   "outputs": [],
   "source": [
    "%matplotlib inline\n",
    "cerebro.plot(iplot=False)"
   ]
  },
  {
   "cell_type": "code",
   "execution_count": null,
   "metadata": {
    "tags": []
   },
   "outputs": [],
   "source": [
    "res[0].analyzers.sharpe_ratio.get_analysis()"
   ]
  },
  {
   "cell_type": "code",
   "execution_count": null,
   "metadata": {
    "tags": []
   },
   "outputs": [],
   "source": [
    "res[0].broker.getvalue()"
   ]
  },
  {
   "cell_type": "code",
   "execution_count": null,
   "metadata": {
    "tags": []
   },
   "outputs": [],
   "source": [
    "res"
   ]
  },
  {
   "cell_type": "code",
   "execution_count": null,
   "metadata": {
    "tags": []
   },
   "outputs": [],
   "source": [
    "res"
   ]
  },
  {
   "cell_type": "code",
   "execution_count": null,
   "metadata": {
    "scrolled": true,
    "tags": []
   },
   "outputs": [],
   "source": [
    "analysis = res[0].analyzers.ta.get_analysis()"
   ]
  },
  {
   "cell_type": "code",
   "execution_count": null,
   "metadata": {
    "tags": []
   },
   "outputs": [],
   "source": [
    "pprint(analysis)"
   ]
  },
  {
   "cell_type": "code",
   "execution_count": null,
   "metadata": {
    "scrolled": true,
    "tags": []
   },
   "outputs": [],
   "source": [
    "res[0].analyzers.py_folio.get_analysis()['returns']"
   ]
  },
  {
   "cell_type": "code",
   "execution_count": null,
   "metadata": {
    "scrolled": true,
    "tags": []
   },
   "outputs": [],
   "source": [
    "res[0].analyzers.py_folio.get_analysis()"
   ]
  },
  {
   "cell_type": "code",
   "execution_count": null,
   "metadata": {
    "scrolled": true
   },
   "outputs": [],
   "source": [
    "res[0].analyzers.p_v.get_analysis()"
   ]
  },
  {
   "cell_type": "code",
   "execution_count": null,
   "metadata": {
    "scrolled": true,
    "tags": []
   },
   "outputs": [],
   "source": [
    "res[0].analyzers.lrr.get_analysis()"
   ]
  },
  {
   "cell_type": "code",
   "execution_count": null,
   "metadata": {},
   "outputs": [],
   "source": [
    "df.columns"
   ]
  },
  {
   "cell_type": "code",
   "execution_count": null,
   "metadata": {},
   "outputs": [],
   "source": [
    "df.head()"
   ]
  },
  {
   "cell_type": "code",
   "execution_count": null,
   "metadata": {},
   "outputs": [],
   "source": [
    "df"
   ]
  },
  {
   "cell_type": "code",
   "execution_count": null,
   "metadata": {},
   "outputs": [],
   "source": []
  },
  {
   "cell_type": "code",
   "execution_count": null,
   "metadata": {},
   "outputs": [],
   "source": []
  },
  {
   "cell_type": "code",
   "execution_count": null,
   "metadata": {},
   "outputs": [],
   "source": []
  },
  {
   "cell_type": "code",
   "execution_count": null,
   "metadata": {},
   "outputs": [],
   "source": []
  },
  {
   "cell_type": "code",
   "execution_count": null,
   "metadata": {},
   "outputs": [],
   "source": []
  }
 ],
 "metadata": {
  "kernelspec": {
   "display_name": "Python 3",
   "language": "python",
   "name": "python3"
  },
  "language_info": {
   "codemirror_mode": {
    "name": "ipython",
    "version": 3
   },
   "file_extension": ".py",
   "mimetype": "text/x-python",
   "name": "python",
   "nbconvert_exporter": "python",
   "pygments_lexer": "ipython3",
   "version": "3.7.9"
  }
 },
 "nbformat": 4,
 "nbformat_minor": 4
}
